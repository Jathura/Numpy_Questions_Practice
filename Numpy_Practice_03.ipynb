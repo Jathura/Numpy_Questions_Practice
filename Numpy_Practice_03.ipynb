{
  "nbformat": 4,
  "nbformat_minor": 0,
  "metadata": {
    "colab": {
      "provenance": []
    },
    "kernelspec": {
      "name": "python3",
      "display_name": "Python 3"
    },
    "language_info": {
      "name": "python"
    }
  },
  "cells": [
    {
      "cell_type": "markdown",
      "source": [
        "**How to build an array of all combinations of two NumPy arrays?**"
      ],
      "metadata": {
        "id": "M1ndQOo2XyDv"
      }
    },
    {
      "cell_type": "code",
      "source": [
        "import numpy as np"
      ],
      "metadata": {
        "id": "LTVhyxI2X14o"
      },
      "execution_count": 1,
      "outputs": []
    },
    {
      "cell_type": "code",
      "source": [
        "array_1 = np.array([1,2])\n",
        "array_2 = np.array([4,6])\n",
        "print('Array-1')\n",
        "print(array_1)\n",
        "print('Array-2')\n",
        "print(array_2)\n",
        "\n",
        "comb_array = np.array(np.meshgrid(array_1,array_2)).T.reshape(-1,2)\n",
        "\n",
        "print('\\nCombine array:- ')\n",
        "print(comb_array)"
      ],
      "metadata": {
        "colab": {
          "base_uri": "https://localhost:8080/"
        },
        "id": "NpEgETDkbLxH",
        "outputId": "e25c55f7-03be-42a2-83d5-e615df452472"
      },
      "execution_count": 5,
      "outputs": [
        {
          "output_type": "stream",
          "name": "stdout",
          "text": [
            "Array-1\n",
            "[1 2]\n",
            "Array-2\n",
            "[4 6]\n",
            "\n",
            "Combine array:- \n",
            "[[1 4]\n",
            " [1 6]\n",
            " [2 4]\n",
            " [2 6]]\n"
          ]
        }
      ]
    },
    {
      "cell_type": "code",
      "source": [],
      "metadata": {
        "id": "15qH8_itbOdk"
      },
      "execution_count": null,
      "outputs": []
    },
    {
      "cell_type": "markdown",
      "source": [
        "**THREE NUMPY ARRAY**"
      ],
      "metadata": {
        "id": "f4Bk-Oo0bz_B"
      }
    },
    {
      "cell_type": "code",
      "source": [
        "# importing Numpy package\n",
        "import numpy as np\n",
        "\n",
        "# creating 3 numpy arrays\n",
        "array_1 = np.array([1, 2, 3])\n",
        "array_2 = np.array([4, 6, 4])\n",
        "array_3 = np.array([3, 6])\n",
        "\n",
        "print(\"Array-1\")\n",
        "print(array_1)\n",
        "\n",
        "print(\"Array-2\")\n",
        "print(array_2)\n",
        "\n",
        "print(\"Array-3\")\n",
        "print(array_3)\n",
        "\n",
        "\n",
        "# combination of elements of array_1,\n",
        "# array_2 and array_3 using\n",
        "# numpy.meshgrid().T.reshape()\n",
        "comb_array = np.array(\n",
        "np.meshgrid(array_1, array_2, array_3)).T.reshape(-1, 3)\n",
        "\n",
        "print(\"\\nCombine array:\")\n",
        "print(comb_array)\n"
      ],
      "metadata": {
        "id": "mRAopkoPb49x"
      },
      "execution_count": null,
      "outputs": []
    }
  ]
}