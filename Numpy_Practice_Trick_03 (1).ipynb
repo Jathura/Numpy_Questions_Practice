{
  "nbformat": 4,
  "nbformat_minor": 0,
  "metadata": {
    "colab": {
      "provenance": []
    },
    "kernelspec": {
      "name": "python3",
      "display_name": "Python 3"
    },
    "language_info": {
      "name": "python"
    }
  },
  "cells": [
    {
      "cell_type": "code",
      "execution_count": null,
      "metadata": {
        "id": "NLMx1dKXYaxC"
      },
      "outputs": [],
      "source": [
        "import numpy as np"
      ]
    },
    {
      "cell_type": "code",
      "source": [
        "z1 = np.random.randint(1,100,15)\n",
        "z1"
      ],
      "metadata": {
        "colab": {
          "base_uri": "https://localhost:8080/"
        },
        "id": "xwd_atMXYjDk",
        "outputId": "cdfa7226-0f0e-4f5a-e10e-a183c3dd02ee"
      },
      "execution_count": null,
      "outputs": [
        {
          "output_type": "execute_result",
          "data": {
            "text/plain": [
              "array([34, 65, 75, 61,  8, 76, 20, 58, 83, 99, 23,  3, 29, 10, 54])"
            ]
          },
          "metadata": {},
          "execution_count": 2
        }
      ]
    },
    {
      "cell_type": "code",
      "source": [
        "np.sort(z1)"
      ],
      "metadata": {
        "colab": {
          "base_uri": "https://localhost:8080/"
        },
        "id": "B1oj6vd5aEoH",
        "outputId": "4b1e5ff9-9168-460c-8319-86524c023e42"
      },
      "execution_count": null,
      "outputs": [
        {
          "output_type": "execute_result",
          "data": {
            "text/plain": [
              "array([ 3,  8, 10, 20, 23, 29, 34, 54, 58, 61, 65, 75, 76, 83, 99])"
            ]
          },
          "metadata": {},
          "execution_count": 3
        }
      ]
    },
    {
      "cell_type": "code",
      "source": [
        "z2 = np.random.randint(1,100,24).reshape(6,4)\n",
        "z2"
      ],
      "metadata": {
        "colab": {
          "base_uri": "https://localhost:8080/"
        },
        "id": "QnNG7WAlaG3n",
        "outputId": "4462c2b1-7bbf-43f2-9ecd-6a11f260e519"
      },
      "execution_count": null,
      "outputs": [
        {
          "output_type": "execute_result",
          "data": {
            "text/plain": [
              "array([[29, 61, 90, 53],\n",
              "       [50, 69, 47, 27],\n",
              "       [40, 70, 94, 49],\n",
              "       [97, 68,  6, 89],\n",
              "       [43, 83, 35, 64],\n",
              "       [77, 42, 28, 63]])"
            ]
          },
          "metadata": {},
          "execution_count": 5
        }
      ]
    },
    {
      "cell_type": "code",
      "source": [
        "np.sort(z2)"
      ],
      "metadata": {
        "colab": {
          "base_uri": "https://localhost:8080/"
        },
        "id": "E2OUOXuLcnZi",
        "outputId": "111eba5e-353d-4515-9a1c-4068a18b4317"
      },
      "execution_count": null,
      "outputs": [
        {
          "output_type": "execute_result",
          "data": {
            "text/plain": [
              "array([[36, 53, 54, 67],\n",
              "       [25, 25, 62, 73],\n",
              "       [22, 42, 78, 89],\n",
              "       [14, 57, 59, 77],\n",
              "       [ 2, 24, 32, 68],\n",
              "       [15, 33, 51, 52]])"
            ]
          },
          "metadata": {},
          "execution_count": 5
        }
      ]
    },
    {
      "cell_type": "code",
      "source": [
        "# row wise sorting"
      ],
      "metadata": {
        "id": "yCgP9APuc1v8"
      },
      "execution_count": null,
      "outputs": []
    },
    {
      "cell_type": "code",
      "source": [
        "np.sort(z2,axis=1)"
      ],
      "metadata": {
        "colab": {
          "base_uri": "https://localhost:8080/"
        },
        "id": "rIkFKXYKcs5b",
        "outputId": "2a9bdfd3-538d-4e3d-df2c-c19aa3b07ddb"
      },
      "execution_count": null,
      "outputs": [
        {
          "output_type": "execute_result",
          "data": {
            "text/plain": [
              "array([[36, 53, 54, 67],\n",
              "       [25, 25, 62, 73],\n",
              "       [22, 42, 78, 89],\n",
              "       [14, 57, 59, 77],\n",
              "       [ 2, 24, 32, 68],\n",
              "       [15, 33, 51, 52]])"
            ]
          },
          "metadata": {},
          "execution_count": 6
        }
      ]
    },
    {
      "cell_type": "code",
      "source": [
        "# COLUMB WISE SORTING"
      ],
      "metadata": {
        "id": "H-ya-17Qc4IP"
      },
      "execution_count": null,
      "outputs": []
    },
    {
      "cell_type": "code",
      "source": [
        "np.sort(z2,axis=0)"
      ],
      "metadata": {
        "colab": {
          "base_uri": "https://localhost:8080/"
        },
        "id": "np-bsABtczan",
        "outputId": "998e5dfb-ca81-4269-b4b8-18afcb682f8d"
      },
      "execution_count": null,
      "outputs": [
        {
          "output_type": "execute_result",
          "data": {
            "text/plain": [
              "array([[22, 15, 14,  2],\n",
              "       [24, 36, 32, 25],\n",
              "       [25, 62, 51, 33],\n",
              "       [52, 68, 54, 42],\n",
              "       [57, 77, 73, 53],\n",
              "       [67, 78, 89, 59]])"
            ]
          },
          "metadata": {},
          "execution_count": 8
        }
      ]
    },
    {
      "cell_type": "code",
      "source": [
        "\n",
        "\n",
        "\n",
        "                                                              # APPEND FUNCTION IN NUMPY\n",
        "\n",
        "\n"
      ],
      "metadata": {
        "id": "ToMAEI7tdGqq"
      },
      "execution_count": null,
      "outputs": []
    },
    {
      "cell_type": "code",
      "source": [
        "z1"
      ],
      "metadata": {
        "colab": {
          "base_uri": "https://localhost:8080/"
        },
        "id": "-zuDJEpFc9Nt",
        "outputId": "e0182171-e3c5-4cde-ae9c-1f8cd9cac2e3"
      },
      "execution_count": null,
      "outputs": [
        {
          "output_type": "execute_result",
          "data": {
            "text/plain": [
              "array([34, 65, 75, 61,  8, 76, 20, 58, 83, 99, 23,  3, 29, 10, 54])"
            ]
          },
          "metadata": {},
          "execution_count": 9
        }
      ]
    },
    {
      "cell_type": "code",
      "source": [
        "np.append(z1,200)              #Append in 1d array"
      ],
      "metadata": {
        "colab": {
          "base_uri": "https://localhost:8080/"
        },
        "id": "rAkbDogPdGBj",
        "outputId": "31ac968f-15c0-4ebc-979c-0df71b9d4559"
      },
      "execution_count": null,
      "outputs": [
        {
          "output_type": "execute_result",
          "data": {
            "text/plain": [
              "array([ 34,  65,  75,  61,   8,  76,  20,  58,  83,  99,  23,   3,  29,\n",
              "        10,  54, 200])"
            ]
          },
          "metadata": {},
          "execution_count": 12
        }
      ]
    },
    {
      "cell_type": "code",
      "source": [
        "z2"
      ],
      "metadata": {
        "colab": {
          "base_uri": "https://localhost:8080/"
        },
        "id": "wDuRlNUGeQ-M",
        "outputId": "e0338fee-f24b-400c-d0a8-160ddd08d2c2"
      },
      "execution_count": null,
      "outputs": [
        {
          "output_type": "execute_result",
          "data": {
            "text/plain": [
              "array([[67, 36, 54, 53],\n",
              "       [25, 62, 73, 25],\n",
              "       [22, 78, 89, 42],\n",
              "       [57, 77, 14, 59],\n",
              "       [24, 68, 32,  2],\n",
              "       [52, 15, 51, 33]])"
            ]
          },
          "metadata": {},
          "execution_count": 14
        }
      ]
    },
    {
      "cell_type": "code",
      "source": [
        "import numpy as np"
      ],
      "metadata": {
        "id": "LQ_pbFLdi5YC"
      },
      "execution_count": null,
      "outputs": []
    },
    {
      "cell_type": "code",
      "source": [
        "                               #Append in 2d array"
      ],
      "metadata": {
        "id": "iriKs9Hcd7Rc"
      },
      "execution_count": null,
      "outputs": []
    },
    {
      "cell_type": "code",
      "source": [
        "np.append(z2,np.ones((z2.shape[0],1)),axis=1)"
      ],
      "metadata": {
        "colab": {
          "base_uri": "https://localhost:8080/"
        },
        "id": "sh68ds-UeF7o",
        "outputId": "7cf5ec93-ecfa-4ba6-d310-6bae94d5a941"
      },
      "execution_count": null,
      "outputs": [
        {
          "output_type": "execute_result",
          "data": {
            "text/plain": [
              "array([[29., 61., 90., 53.,  1.],\n",
              "       [50., 69., 47., 27.,  1.],\n",
              "       [40., 70., 94., 49.,  1.],\n",
              "       [97., 68.,  6., 89.,  1.],\n",
              "       [43., 83., 35., 64.,  1.],\n",
              "       [77., 42., 28., 63.,  1.]])"
            ]
          },
          "metadata": {},
          "execution_count": 6
        }
      ]
    },
    {
      "cell_type": "code",
      "source": [
        "np.ones((z2.shape[0], 1))"
      ],
      "metadata": {
        "colab": {
          "base_uri": "https://localhost:8080/"
        },
        "id": "CjOaN3K4exmt",
        "outputId": "7aa0d44f-86e3-4007-bfa2-3d06a13d3b4f"
      },
      "execution_count": null,
      "outputs": [
        {
          "output_type": "execute_result",
          "data": {
            "text/plain": [
              "array([[1.],\n",
              "       [1.],\n",
              "       [1.],\n",
              "       [1.],\n",
              "       [1.],\n",
              "       [1.]])"
            ]
          },
          "metadata": {},
          "execution_count": 11
        }
      ]
    },
    {
      "cell_type": "code",
      "source": [
        "\n",
        "\n",
        "                                #  CONCATIATE FUNCTION IN NUMPY ARRAY\n",
        "\n",
        "\n"
      ],
      "metadata": {
        "id": "eUFG-VjjjX8y"
      },
      "execution_count": null,
      "outputs": []
    },
    {
      "cell_type": "code",
      "source": [
        "a1 = np.arange(6).reshape(2,3)\n",
        "a2 = np.arange(6,12).reshape(2,3)\n",
        "\n",
        "print(a1)\n",
        "print(a2)\n",
        "\n",
        "\n",
        "np.concatenate((a1,a2),axis=1)"
      ],
      "metadata": {
        "colab": {
          "base_uri": "https://localhost:8080/"
        },
        "id": "XfwDQye-nvvM",
        "outputId": "823dbed6-9821-4d59-ba2a-a2fe69e0c72b"
      },
      "execution_count": null,
      "outputs": [
        {
          "output_type": "stream",
          "name": "stdout",
          "text": [
            "[[0 1 2]\n",
            " [3 4 5]]\n",
            "[[ 6  7  8]\n",
            " [ 9 10 11]]\n"
          ]
        },
        {
          "output_type": "execute_result",
          "data": {
            "text/plain": [
              "array([[ 0,  1,  2,  6,  7,  8],\n",
              "       [ 3,  4,  5,  9, 10, 11]])"
            ]
          },
          "metadata": {},
          "execution_count": 28
        }
      ]
    },
    {
      "cell_type": "code",
      "source": [
        "a1 = np.arange(6).reshape(2,3)\n",
        "a2 = np.arange(6,12).reshape(2,3)\n",
        "\n",
        "print(a1)\n",
        "print(a2)\n",
        "\n",
        "np.concatenate((a1,a2),axis = 0)"
      ],
      "metadata": {
        "id": "jMVElYICoPr2",
        "colab": {
          "base_uri": "https://localhost:8080/"
        },
        "outputId": "23e571ca-fce0-4b87-9cf2-cc017d870755"
      },
      "execution_count": null,
      "outputs": [
        {
          "output_type": "stream",
          "name": "stdout",
          "text": [
            "[[0 1 2]\n",
            " [3 4 5]]\n",
            "[[ 6  7  8]\n",
            " [ 9 10 11]]\n"
          ]
        },
        {
          "output_type": "execute_result",
          "data": {
            "text/plain": [
              "array([[ 0,  1,  2],\n",
              "       [ 3,  4,  5],\n",
              "       [ 6,  7,  8],\n",
              "       [ 9, 10, 11]])"
            ]
          },
          "metadata": {},
          "execution_count": 12
        }
      ]
    },
    {
      "cell_type": "code",
      "source": [
        "a2 = np.array([1,2,2,3,4,1,34,2,5,6,2,3,5,23,4,6,3])\n",
        "a2\n",
        "np.unique(a2)"
      ],
      "metadata": {
        "colab": {
          "base_uri": "https://localhost:8080/"
        },
        "id": "19FQYLOznJAW",
        "outputId": "b806cbce-82e2-4036-c3f7-4bb1c69706cb"
      },
      "execution_count": null,
      "outputs": [
        {
          "output_type": "execute_result",
          "data": {
            "text/plain": [
              "array([ 1,  2,  3,  4,  5,  6, 23, 34])"
            ]
          },
          "metadata": {},
          "execution_count": 14
        }
      ]
    },
    {
      "cell_type": "code",
      "source": [
        "a3 = np.arange(12).reshape(4,3)\n",
        "a3"
      ],
      "metadata": {
        "colab": {
          "base_uri": "https://localhost:8080/"
        },
        "id": "6GHPquEjnZR2",
        "outputId": "5212caf4-b984-454b-f6c1-1dbba215d9c1"
      },
      "execution_count": null,
      "outputs": [
        {
          "output_type": "execute_result",
          "data": {
            "text/plain": [
              "array([[ 0,  1,  2],\n",
              "       [ 3,  4,  5],\n",
              "       [ 6,  7,  8],\n",
              "       [ 9, 10, 11]])"
            ]
          },
          "metadata": {},
          "execution_count": 15
        }
      ]
    },
    {
      "cell_type": "code",
      "source": [
        "a4 = np.arange(5,17).reshape(4,3)\n",
        "a4"
      ],
      "metadata": {
        "colab": {
          "base_uri": "https://localhost:8080/"
        },
        "id": "I9OhMOnAnn5n",
        "outputId": "c6eed02b-c5c1-46de-c60f-4f88312d071f"
      },
      "execution_count": null,
      "outputs": [
        {
          "output_type": "execute_result",
          "data": {
            "text/plain": [
              "array([[ 5,  6,  7],\n",
              "       [ 8,  9, 10],\n",
              "       [11, 12, 13],\n",
              "       [14, 15, 16]])"
            ]
          },
          "metadata": {},
          "execution_count": 17
        }
      ]
    },
    {
      "cell_type": "code",
      "source": [
        "a5 = np.concatenate((a3,a4))"
      ],
      "metadata": {
        "id": "TYA7dMq5niHs"
      },
      "execution_count": null,
      "outputs": []
    },
    {
      "cell_type": "code",
      "source": [
        "a5"
      ],
      "metadata": {
        "colab": {
          "base_uri": "https://localhost:8080/"
        },
        "id": "c47AsOG7nkho",
        "outputId": "38236311-7c1f-41c2-f1c0-7c156d0e33ba"
      },
      "execution_count": null,
      "outputs": [
        {
          "output_type": "execute_result",
          "data": {
            "text/plain": [
              "array([[ 0,  1,  2],\n",
              "       [ 3,  4,  5],\n",
              "       [ 6,  7,  8],\n",
              "       [ 9, 10, 11],\n",
              "       [ 5,  6,  7],\n",
              "       [ 8,  9, 10],\n",
              "       [11, 12, 13],\n",
              "       [14, 15, 16]])"
            ]
          },
          "metadata": {},
          "execution_count": 23
        }
      ]
    },
    {
      "cell_type": "code",
      "source": [
        "np.unique(a5)"
      ],
      "metadata": {
        "colab": {
          "base_uri": "https://localhost:8080/"
        },
        "id": "vQMaDVbAo8sa",
        "outputId": "d2df721f-a796-4bec-df50-0bd28a0c50d6"
      },
      "execution_count": null,
      "outputs": [
        {
          "output_type": "execute_result",
          "data": {
            "text/plain": [
              "array([ 0,  1,  2,  3,  4,  5,  6,  7,  8,  9, 10, 11, 12, 13, 14, 15, 16])"
            ]
          },
          "metadata": {},
          "execution_count": 24
        }
      ]
    },
    {
      "cell_type": "code",
      "source": [
        "\n",
        "\n",
        "\n",
        "                                                            # EXPAND DIMS\n",
        "\n",
        "\n",
        "\n"
      ],
      "metadata": {
        "id": "D8vnbKjjp1Vn"
      },
      "execution_count": null,
      "outputs": []
    },
    {
      "cell_type": "code",
      "source": [
        "a1"
      ],
      "metadata": {
        "id": "EtzkGcrCo_Rp",
        "colab": {
          "base_uri": "https://localhost:8080/"
        },
        "outputId": "02cdd40a-8bcf-4585-8a40-7941ef04f478"
      },
      "execution_count": 25,
      "outputs": [
        {
          "output_type": "execute_result",
          "data": {
            "text/plain": [
              "array([[0, 1, 2],\n",
              "       [3, 4, 5]])"
            ]
          },
          "metadata": {},
          "execution_count": 25
        }
      ]
    },
    {
      "cell_type": "code",
      "source": [
        "np.expand_dims(a1,axis=1).shape"
      ],
      "metadata": {
        "colab": {
          "base_uri": "https://localhost:8080/"
        },
        "id": "xwb7C8d7pdmb",
        "outputId": "217e65b5-8158-45fe-bd6c-28114c1d2e67"
      },
      "execution_count": 29,
      "outputs": [
        {
          "output_type": "execute_result",
          "data": {
            "text/plain": [
              "(2, 1, 3)"
            ]
          },
          "metadata": {},
          "execution_count": 29
        }
      ]
    },
    {
      "cell_type": "code",
      "source": [
        "a1.shape"
      ],
      "metadata": {
        "colab": {
          "base_uri": "https://localhost:8080/"
        },
        "id": "uAdgEf0XpiYr",
        "outputId": "e682c6ba-bf82-48e6-f046-7c5e0066ee72"
      },
      "execution_count": 28,
      "outputs": [
        {
          "output_type": "execute_result",
          "data": {
            "text/plain": [
              "(2, 3)"
            ]
          },
          "metadata": {},
          "execution_count": 28
        }
      ]
    },
    {
      "cell_type": "code",
      "source": [
        "a2.shape"
      ],
      "metadata": {
        "colab": {
          "base_uri": "https://localhost:8080/"
        },
        "id": "N4kWrn9Npt22",
        "outputId": "2c8ad653-dc7e-4375-c8d4-501c8883faa9"
      },
      "execution_count": 35,
      "outputs": [
        {
          "output_type": "execute_result",
          "data": {
            "text/plain": [
              "1"
            ]
          },
          "metadata": {},
          "execution_count": 35
        }
      ]
    },
    {
      "cell_type": "code",
      "source": [
        "np.expand_dims(a2,axis =1)"
      ],
      "metadata": {
        "colab": {
          "base_uri": "https://localhost:8080/"
        },
        "id": "NGl4Y61kp7XR",
        "outputId": "ec2e7a09-d058-419e-c9dc-a1aa95e9c6a5"
      },
      "execution_count": 37,
      "outputs": [
        {
          "output_type": "execute_result",
          "data": {
            "text/plain": [
              "array([[ 1],\n",
              "       [ 2],\n",
              "       [ 2],\n",
              "       [ 3],\n",
              "       [ 4],\n",
              "       [ 1],\n",
              "       [34],\n",
              "       [ 2],\n",
              "       [ 5],\n",
              "       [ 6],\n",
              "       [ 2],\n",
              "       [ 3],\n",
              "       [ 5],\n",
              "       [23],\n",
              "       [ 4],\n",
              "       [ 6],\n",
              "       [ 3]])"
            ]
          },
          "metadata": {},
          "execution_count": 37
        }
      ]
    },
    {
      "cell_type": "code",
      "source": [
        "\n",
        "\n",
        "                                                          # WHERE FUNCTION\n",
        "                                                            # (np.where)\n",
        "\n"
      ],
      "metadata": {
        "id": "a8VNghzZqkbm"
      },
      "execution_count": null,
      "outputs": []
    },
    {
      "cell_type": "code",
      "source": [
        "a2"
      ],
      "metadata": {
        "colab": {
          "base_uri": "https://localhost:8080/"
        },
        "id": "59hTKl-iqAlJ",
        "outputId": "8b1d61f0-2df4-4f81-b262-20c474cd3997"
      },
      "execution_count": 38,
      "outputs": [
        {
          "output_type": "execute_result",
          "data": {
            "text/plain": [
              "array([ 1,  2,  2,  3,  4,  1, 34,  2,  5,  6,  2,  3,  5, 23,  4,  6,  3])"
            ]
          },
          "metadata": {},
          "execution_count": 38
        }
      ]
    },
    {
      "cell_type": "code",
      "source": [
        "np.where(a2>10)"
      ],
      "metadata": {
        "colab": {
          "base_uri": "https://localhost:8080/"
        },
        "id": "p6fwjWnaqjq0",
        "outputId": "b95ecb07-8de7-43d4-91bd-18c5839237a5"
      },
      "execution_count": 39,
      "outputs": [
        {
          "output_type": "execute_result",
          "data": {
            "text/plain": [
              "(array([ 6, 13]),)"
            ]
          },
          "metadata": {},
          "execution_count": 39
        }
      ]
    },
    {
      "cell_type": "code",
      "source": [
        "a3"
      ],
      "metadata": {
        "colab": {
          "base_uri": "https://localhost:8080/"
        },
        "id": "CehT61gXqv_f",
        "outputId": "f1275dd1-9244-4136-d343-b32387f5873d"
      },
      "execution_count": 40,
      "outputs": [
        {
          "output_type": "execute_result",
          "data": {
            "text/plain": [
              "array([[ 0,  1,  2],\n",
              "       [ 3,  4,  5],\n",
              "       [ 6,  7,  8],\n",
              "       [ 9, 10, 11]])"
            ]
          },
          "metadata": {},
          "execution_count": 40
        }
      ]
    },
    {
      "cell_type": "code",
      "source": [
        "np.where(a3>5)"
      ],
      "metadata": {
        "colab": {
          "base_uri": "https://localhost:8080/"
        },
        "id": "MqH6JDuCq6mL",
        "outputId": "a0468ef0-f651-4f91-8cda-3f9fc3e5398b"
      },
      "execution_count": 46,
      "outputs": [
        {
          "output_type": "execute_result",
          "data": {
            "text/plain": [
              "(array([2, 2, 2, 3, 3, 3]), array([0, 1, 2, 0, 1, 2]))"
            ]
          },
          "metadata": {},
          "execution_count": 46
        }
      ]
    },
    {
      "cell_type": "markdown",
      "source": [
        "![new file.png](data:image/png;base64,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)"
      ],
      "metadata": {
        "id": "ou87roT3uD_1"
      }
    },
    {
      "cell_type": "code",
      "source": [
        "\n",
        "# REPLACEMENT OF VALUE IN WHERE\n"
      ],
      "metadata": {
        "id": "Knpv94B1s-7K"
      },
      "execution_count": null,
      "outputs": []
    },
    {
      "cell_type": "code",
      "source": [
        "a3"
      ],
      "metadata": {
        "colab": {
          "base_uri": "https://localhost:8080/"
        },
        "id": "iN8ivaPCuoBM",
        "outputId": "7b37cc03-f5fb-4f3b-86d6-695a7349691c"
      },
      "execution_count": 48,
      "outputs": [
        {
          "output_type": "execute_result",
          "data": {
            "text/plain": [
              "array([[ 0,  1,  2],\n",
              "       [ 3,  4,  5],\n",
              "       [ 6,  7,  8],\n",
              "       [ 9, 10, 11]])"
            ]
          },
          "metadata": {},
          "execution_count": 48
        }
      ]
    },
    {
      "cell_type": "code",
      "source": [
        "np.where(a3>5,99999,a3)"
      ],
      "metadata": {
        "colab": {
          "base_uri": "https://localhost:8080/"
        },
        "id": "m6MCmAmfualc",
        "outputId": "65cbaf7d-6576-468f-b81d-da8b36dc2541"
      },
      "execution_count": 51,
      "outputs": [
        {
          "output_type": "execute_result",
          "data": {
            "text/plain": [
              "array([[    0,     1,     2],\n",
              "       [    3,     4,     5],\n",
              "       [99999, 99999, 99999],\n",
              "       [99999, 99999, 99999]])"
            ]
          },
          "metadata": {},
          "execution_count": 51
        }
      ]
    },
    {
      "cell_type": "code",
      "source": [
        "\n",
        "\n",
        "                                                          #  ARGUMENT MAX IN NUMPY\n",
        "\n"
      ],
      "metadata": {
        "id": "_u3f8EG9uaiU"
      },
      "execution_count": null,
      "outputs": []
    },
    {
      "cell_type": "code",
      "source": [
        "a3 = np.array([[[1,2,3],[4,5,6]],[[7,8,9],[10,11,3]],[[5,7,2],[2,8,1]]])\n",
        "a3"
      ],
      "metadata": {
        "colab": {
          "base_uri": "https://localhost:8080/"
        },
        "id": "JiouZaNhxWjU",
        "outputId": "2cdc3c7d-3705-41b6-b5c8-da472e3d7fcc"
      },
      "execution_count": 66,
      "outputs": [
        {
          "output_type": "execute_result",
          "data": {
            "text/plain": [
              "array([[[ 1,  2,  3],\n",
              "        [ 4,  5,  6]],\n",
              "\n",
              "       [[ 7,  8,  9],\n",
              "        [10, 11,  3]],\n",
              "\n",
              "       [[ 5,  7,  2],\n",
              "        [ 2,  8,  1]]])"
            ]
          },
          "metadata": {},
          "execution_count": 66
        }
      ]
    },
    {
      "cell_type": "code",
      "source": [
        "a2 = np.arange(12).reshape(4,3)\n",
        "a2"
      ],
      "metadata": {
        "colab": {
          "base_uri": "https://localhost:8080/"
        },
        "id": "vD2dAzjJynUb",
        "outputId": "18de9d3e-9c8a-4edc-89ae-213f63604cc3"
      },
      "execution_count": 82,
      "outputs": [
        {
          "output_type": "execute_result",
          "data": {
            "text/plain": [
              "array([[ 0,  1,  2],\n",
              "       [ 3,  4,  5],\n",
              "       [ 6,  7,  8],\n",
              "       [ 9, 10, 11]])"
            ]
          },
          "metadata": {},
          "execution_count": 82
        }
      ]
    },
    {
      "cell_type": "code",
      "source": [
        "print(a1)\n",
        "print()\n",
        "print(a2)\n",
        "print()\n",
        "print(a3)"
      ],
      "metadata": {
        "colab": {
          "base_uri": "https://localhost:8080/"
        },
        "id": "mach8EBRu6-a",
        "outputId": "ce6c9c41-8d68-4d63-8e43-d02ed1350cf6"
      },
      "execution_count": 83,
      "outputs": [
        {
          "output_type": "stream",
          "name": "stdout",
          "text": [
            "[[0 1 2]\n",
            " [3 4 5]]\n",
            "\n",
            "[[ 0  1  2]\n",
            " [ 3  4  5]\n",
            " [ 6  7  8]\n",
            " [ 9 10 11]]\n",
            "\n",
            "[[[ 1  2  3]\n",
            "  [ 4  5  6]]\n",
            "\n",
            " [[ 7  8  9]\n",
            "  [10 11  3]]\n",
            "\n",
            " [[ 5  7  2]\n",
            "  [ 2  8  1]]]\n"
          ]
        }
      ]
    },
    {
      "cell_type": "code",
      "source": [
        "print(np.argmax(a1))\n",
        "print()\n",
        "print(np.argmax(a2))\n",
        "print()\n",
        "print(np.argmax(a3))"
      ],
      "metadata": {
        "colab": {
          "base_uri": "https://localhost:8080/"
        },
        "id": "131_PrIau67J",
        "outputId": "63b510b8-c32a-4765-f32d-c825e12cd659"
      },
      "execution_count": 84,
      "outputs": [
        {
          "output_type": "stream",
          "name": "stdout",
          "text": [
            "5\n",
            "\n",
            "11\n",
            "\n",
            "10\n"
          ]
        }
      ]
    },
    {
      "cell_type": "code",
      "source": [
        "# ROWWISE"
      ],
      "metadata": {
        "id": "r6MkraC5wUrY"
      },
      "execution_count": 85,
      "outputs": []
    },
    {
      "cell_type": "code",
      "source": [
        "print(a1)\n",
        "print()\n",
        "print(a2)\n",
        "print()\n",
        "print(a3)"
      ],
      "metadata": {
        "colab": {
          "base_uri": "https://localhost:8080/"
        },
        "id": "ZDMY5slnw7h0",
        "outputId": "f0063ac2-16f1-479f-f363-4dc3f6aaddbd"
      },
      "execution_count": 86,
      "outputs": [
        {
          "output_type": "stream",
          "name": "stdout",
          "text": [
            "[[0 1 2]\n",
            " [3 4 5]]\n",
            "\n",
            "[[ 0  1  2]\n",
            " [ 3  4  5]\n",
            " [ 6  7  8]\n",
            " [ 9 10 11]]\n",
            "\n",
            "[[[ 1  2  3]\n",
            "  [ 4  5  6]]\n",
            "\n",
            " [[ 7  8  9]\n",
            "  [10 11  3]]\n",
            "\n",
            " [[ 5  7  2]\n",
            "  [ 2  8  1]]]\n"
          ]
        }
      ]
    },
    {
      "cell_type": "code",
      "source": [
        "print(np.argmax(1))\n",
        "print(np.argmax(a2,axis=0))\n",
        "print(np.argmax(a3,axis=0))"
      ],
      "metadata": {
        "colab": {
          "base_uri": "https://localhost:8080/"
        },
        "id": "gYSIH_V1u6uq",
        "outputId": "908f93a1-fbbe-4c1e-8a0c-3371db134b27"
      },
      "execution_count": 87,
      "outputs": [
        {
          "output_type": "stream",
          "name": "stdout",
          "text": [
            "0\n",
            "[3 3 3]\n",
            "[[1 1 1]\n",
            " [1 1 0]]\n"
          ]
        }
      ]
    },
    {
      "cell_type": "code",
      "source": [
        "# COLUMWISE"
      ],
      "metadata": {
        "id": "JSHj2mSYwqCr"
      },
      "execution_count": 88,
      "outputs": []
    },
    {
      "cell_type": "code",
      "source": [
        "print(a1)\n",
        "print()\n",
        "print(a2)\n",
        "print()\n",
        "print(a3)"
      ],
      "metadata": {
        "id": "ZhCnRwjvyDZb"
      },
      "execution_count": 90,
      "outputs": []
    },
    {
      "cell_type": "code",
      "source": [
        "print(np.argmax(1))\n",
        "print(np.argmax(a2,axis=1))\n",
        "print(np.argmax(a3,axis=1))"
      ],
      "metadata": {
        "colab": {
          "base_uri": "https://localhost:8080/"
        },
        "id": "-0v9r0qYyGNC",
        "outputId": "cc6310b0-204d-4272-ce98-251a67f95c82"
      },
      "execution_count": 90,
      "outputs": [
        {
          "output_type": "stream",
          "name": "stdout",
          "text": [
            "0\n",
            "[2 2 2 2]\n",
            "[[1 1 1]\n",
            " [1 1 0]\n",
            " [0 1 0]]\n"
          ]
        }
      ]
    },
    {
      "cell_type": "code",
      "source": [
        "\n",
        "# How the answer for 2D array is [2 2 2 2]\n",
        "\n"
      ],
      "metadata": {
        "id": "-ePSWMx50NWf"
      },
      "execution_count": null,
      "outputs": []
    },
    {
      "cell_type": "markdown",
      "source": [
        "![Screenshot 2025-07-14 125111.png](data:image/png;base64,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)"
      ],
      "metadata": {
        "id": "f4nxL6_8z4GW"
      }
    },
    {
      "cell_type": "code",
      "source": [],
      "metadata": {
        "id": "eDGP3bCoyfeP"
      },
      "execution_count": null,
      "outputs": []
    }
  ]
}