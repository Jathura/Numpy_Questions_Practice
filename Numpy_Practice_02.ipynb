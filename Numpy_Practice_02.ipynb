{
  "nbformat": 4,
  "nbformat_minor": 0,
  "metadata": {
    "colab": {
      "provenance": []
    },
    "kernelspec": {
      "name": "python3",
      "display_name": "Python 3"
    },
    "language_info": {
      "name": "python"
    }
  },
  "cells": [
    {
      "cell_type": "code",
      "execution_count": null,
      "metadata": {
        "id": "lXVEmaTwTM9L"
      },
      "outputs": [],
      "source": [
        "import numpy as np"
      ]
    },
    {
      "cell_type": "code",
      "source": [],
      "metadata": {
        "id": "o1ef-zz3o9-D"
      },
      "execution_count": null,
      "outputs": []
    },
    {
      "cell_type": "markdown",
      "source": [
        "**Create the empty Numpy Array**"
      ],
      "metadata": {
        "id": "Z6iy08EVTnp1"
      }
    },
    {
      "cell_type": "code",
      "source": [
        "a1 = np.empty((3,4))\n",
        "a1"
      ],
      "metadata": {
        "colab": {
          "base_uri": "https://localhost:8080/"
        },
        "id": "GtEQh7yVThXC",
        "outputId": "1482223b-c8d0-493f-9a6c-76a788512d6e"
      },
      "execution_count": null,
      "outputs": [
        {
          "output_type": "execute_result",
          "data": {
            "text/plain": [
              "array([[2.5e-323, 2.5e-323, 2.5e-323, 2.5e-323],\n",
              "       [2.5e-323, 2.5e-323, 2.5e-323, 2.5e-323],\n",
              "       [2.5e-323, 2.5e-323, 2.5e-323, 2.5e-323]])"
            ]
          },
          "metadata": {},
          "execution_count": 6
        }
      ]
    },
    {
      "cell_type": "code",
      "source": [],
      "metadata": {
        "id": "qojFkIF7o1wB"
      },
      "execution_count": null,
      "outputs": []
    },
    {
      "cell_type": "markdown",
      "source": [
        "**Create the Full Numpy Array**"
      ],
      "metadata": {
        "id": "i4qGV4xvT6kz"
      }
    },
    {
      "cell_type": "code",
      "source": [
        "# In NumPy, \"full\" refers to an array where all elements are initialized with a specific value.\n",
        "\n",
        "a2 = np.full((3,4),5)\n",
        "a2"
      ],
      "metadata": {
        "colab": {
          "base_uri": "https://localhost:8080/"
        },
        "id": "IEzS2HRcT4Ry",
        "outputId": "5e082214-2bf2-4776-f9ef-4191c337edae"
      },
      "execution_count": null,
      "outputs": [
        {
          "output_type": "execute_result",
          "data": {
            "text/plain": [
              "array([[5, 5, 5, 5],\n",
              "       [5, 5, 5, 5],\n",
              "       [5, 5, 5, 5]])"
            ]
          },
          "metadata": {},
          "execution_count": 8
        }
      ]
    },
    {
      "cell_type": "code",
      "source": [],
      "metadata": {
        "id": "EhTtLSvgo1Pa"
      },
      "execution_count": null,
      "outputs": []
    },
    {
      "cell_type": "markdown",
      "source": [
        "**Create the Numpy Array filled with all zeros**"
      ],
      "metadata": {
        "id": "_6MHK3CnVRfU"
      }
    },
    {
      "cell_type": "code",
      "source": [
        "# 1D\n",
        "arra1 = np.zeros(5)\n",
        "arra1"
      ],
      "metadata": {
        "colab": {
          "base_uri": "https://localhost:8080/"
        },
        "id": "cGmlbFPFUNid",
        "outputId": "6318c721-857b-43e2-c15e-d681a1fba882"
      },
      "execution_count": null,
      "outputs": [
        {
          "output_type": "execute_result",
          "data": {
            "text/plain": [
              "array([0., 0., 0., 0., 0.])"
            ]
          },
          "metadata": {},
          "execution_count": 10
        }
      ]
    },
    {
      "cell_type": "code",
      "source": [
        "# 3D\n",
        "arra3 = np.zeros((3,3,3))\n",
        "arra3"
      ],
      "metadata": {
        "colab": {
          "base_uri": "https://localhost:8080/"
        },
        "id": "Tr5qe9fzWFK-",
        "outputId": "2467aa17-60d4-49ab-9a59-98a3f81514fd"
      },
      "execution_count": null,
      "outputs": [
        {
          "output_type": "execute_result",
          "data": {
            "text/plain": [
              "array([[[0., 0., 0.],\n",
              "        [0., 0., 0.],\n",
              "        [0., 0., 0.]],\n",
              "\n",
              "       [[0., 0., 0.],\n",
              "        [0., 0., 0.],\n",
              "        [0., 0., 0.]],\n",
              "\n",
              "       [[0., 0., 0.],\n",
              "        [0., 0., 0.],\n",
              "        [0., 0., 0.]]])"
            ]
          },
          "metadata": {},
          "execution_count": 13
        }
      ]
    },
    {
      "cell_type": "code",
      "source": [],
      "metadata": {
        "id": "7ujpPNDvoyri"
      },
      "execution_count": null,
      "outputs": []
    },
    {
      "cell_type": "markdown",
      "source": [
        "**Create the Numpy array filled with all ones**"
      ],
      "metadata": {
        "id": "P3NemG14X_a0"
      }
    },
    {
      "cell_type": "code",
      "source": [
        "arr1 = np.ones(6)\n",
        "arr2 = np.ones((3,4))\n",
        "arr3 = np.ones((2,4,5))\n",
        "print(\"1d array with ones\",arr1)\n",
        "print(\"2d array with ones\",arr2)\n",
        "print(\"3d array with ones\",arr3)"
      ],
      "metadata": {
        "colab": {
          "base_uri": "https://localhost:8080/"
        },
        "id": "Uiyj7m9UWjlS",
        "outputId": "9f20cd1d-531d-4506-92ac-c82d31f0012a"
      },
      "execution_count": null,
      "outputs": [
        {
          "output_type": "stream",
          "name": "stdout",
          "text": [
            "1d array with ones [1. 1. 1. 1. 1. 1.]\n",
            "2d array with ones [[1. 1. 1. 1.]\n",
            " [1. 1. 1. 1.]\n",
            " [1. 1. 1. 1.]]\n",
            "3d array with ones [[[1. 1. 1. 1. 1.]\n",
            "  [1. 1. 1. 1. 1.]\n",
            "  [1. 1. 1. 1. 1.]\n",
            "  [1. 1. 1. 1. 1.]]\n",
            "\n",
            " [[1. 1. 1. 1. 1.]\n",
            "  [1. 1. 1. 1. 1.]\n",
            "  [1. 1. 1. 1. 1.]\n",
            "  [1. 1. 1. 1. 1.]]]\n"
          ]
        }
      ]
    },
    {
      "cell_type": "code",
      "source": [],
      "metadata": {
        "id": "QOzJLAVooyHq"
      },
      "execution_count": null,
      "outputs": []
    },
    {
      "cell_type": "markdown",
      "source": [
        "**Check whether the numpy array contain a specific row**"
      ],
      "metadata": {
        "id": "lccS0BTCZFG3"
      }
    },
    {
      "cell_type": "code",
      "source": [
        "import numpy as np\n",
        "arr = np.array([[1,2,3,4,5],\n",
        "                [6,7,8,9,10],\n",
        "                [11,12,13,14,15],\n",
        "                [16,17,18,19,20]\n",
        "                ])\n",
        "print(arr)\n",
        "\n",
        "print([1,2,3,4,5] in arr.tolist())"
      ],
      "metadata": {
        "id": "zL7MRaUMYbZJ",
        "colab": {
          "base_uri": "https://localhost:8080/"
        },
        "outputId": "aed9e2be-b856-4e54-9c5f-5d3e4879844d"
      },
      "execution_count": 1,
      "outputs": [
        {
          "output_type": "stream",
          "name": "stdout",
          "text": [
            "[[ 1  2  3  4  5]\n",
            " [ 6  7  8  9 10]\n",
            " [11 12 13 14 15]\n",
            " [16 17 18 19 20]]\n",
            "True\n"
          ]
        }
      ]
    },
    {
      "cell_type": "code",
      "source": [],
      "metadata": {
        "id": "XXwThK20oxjI"
      },
      "execution_count": null,
      "outputs": []
    },
    {
      "cell_type": "markdown",
      "source": [
        "**How to Remove rows in Numpy array that contains non-numeric values?**"
      ],
      "metadata": {
        "id": "ief9XLvsiilF"
      }
    },
    {
      "cell_type": "code",
      "source": [
        "import numpy as np\n",
        "\n",
        "n_arr = np.array([[10.5, 22.5, 3.8],\n",
        "                  [41, np.nan, np.nan]])\n",
        "\n",
        "print(\"Given array:\")\n",
        "print(n_arr)\n",
        "\n",
        "print(\"\\nRemove all rows containing NaN values:\")\n",
        "clear_arr = n_arr[~np.isnan(n_arr).any(axis = 1)]\n",
        "print(clear_arr)"
      ],
      "metadata": {
        "colab": {
          "base_uri": "https://localhost:8080/"
        },
        "id": "gksUdQ5SiZq9",
        "outputId": "7104ec2f-1e48-48e1-bae2-1c59a4578a13"
      },
      "execution_count": 2,
      "outputs": [
        {
          "output_type": "stream",
          "name": "stdout",
          "text": [
            "Given array:\n",
            "[[10.5 22.5  3.8]\n",
            " [41.   nan  nan]]\n",
            "\n",
            "Remove all rows containing NaN values:\n",
            "[[10.5 22.5  3.8]]\n"
          ]
        }
      ]
    },
    {
      "cell_type": "code",
      "source": [],
      "metadata": {
        "id": "7SFh-CrSkd7y"
      },
      "execution_count": null,
      "outputs": []
    },
    {
      "cell_type": "markdown",
      "source": [
        "**Remove single dimnesional entries from the shape of an array**"
      ],
      "metadata": {
        "id": "C7BrEt3SlE77"
      }
    },
    {
      "cell_type": "code",
      "source": [
        "import numpy as np\n",
        "\n",
        "my_arr = np.array([[[1,2,3],[5,6,7]]])\n",
        "print(my_arr)\n",
        "print(my_arr.shape)\n",
        "\n",
        "# tp remove the 1 we use  . squeeze() function\n",
        "\n",
        "new_arr = np.squeeze(my_arr)\n",
        "print(new_arr)\n",
        "print(new_arr.shape)"
      ],
      "metadata": {
        "colab": {
          "base_uri": "https://localhost:8080/"
        },
        "id": "1ZF942hllLMe",
        "outputId": "2a501de9-d5c4-41e4-bb1a-2dd31f86ce96"
      },
      "execution_count": 7,
      "outputs": [
        {
          "output_type": "stream",
          "name": "stdout",
          "text": [
            "[[[1 2 3]\n",
            "  [5 6 7]]]\n",
            "(1, 2, 3)\n",
            "[[1 2 3]\n",
            " [5 6 7]]\n",
            "(2, 3)\n"
          ]
        }
      ]
    },
    {
      "cell_type": "code",
      "source": [],
      "metadata": {
        "id": "UmfXuCyhnfEF"
      },
      "execution_count": null,
      "outputs": []
    },
    {
      "cell_type": "markdown",
      "source": [
        "**Find the number of occurrences of a sequence in a NumPy array**"
      ],
      "metadata": {
        "id": "yYRapDydou_q"
      }
    },
    {
      "cell_type": "code",
      "source": [
        "# importing package\n",
        "import numpy\n",
        "\n",
        "# create numpy array\n",
        "arr = numpy.array([[2, 8, 9, 4],\n",
        "\t\t\t\t[9, 4, 9, 4],\n",
        "\t\t\t\t[4, 5, 9, 7],\n",
        "\t\t\t\t[2, 9, 4, 3]])\n",
        "\n",
        "# Counting sequence\n",
        "output = repr(arr).count(\"9, 4\")\n",
        "\n",
        "# view output\n",
        "print(output)\n"
      ],
      "metadata": {
        "colab": {
          "base_uri": "https://localhost:8080/"
        },
        "id": "umlvfdVMuLhL",
        "outputId": "21fe1239-37dd-4a18-80d9-3babf75f9e89"
      },
      "execution_count": 10,
      "outputs": [
        {
          "output_type": "stream",
          "name": "stdout",
          "text": [
            "4\n"
          ]
        }
      ]
    },
    {
      "cell_type": "code",
      "source": [],
      "metadata": {
        "id": "sRcFzbunuPn8"
      },
      "execution_count": null,
      "outputs": []
    },
    {
      "cell_type": "markdown",
      "source": [
        "**Find the most frequent value in a NumPy array**"
      ],
      "metadata": {
        "id": "ZqMvVt-zuzsy"
      }
    },
    {
      "cell_type": "code",
      "source": [
        "import numpy as np\n",
        "\n",
        "arr = np.array([1,2,3,4,6,4,1,3,7,4])\n",
        "\n",
        "counts = np.bincount(arr)\n",
        "print(counts)"
      ],
      "metadata": {
        "colab": {
          "base_uri": "https://localhost:8080/"
        },
        "id": "7CNDBhR7u0k4",
        "outputId": "d16b125c-961b-4d51-e4e2-7dbaa1c3add2"
      },
      "execution_count": 19,
      "outputs": [
        {
          "output_type": "stream",
          "name": "stdout",
          "text": [
            "[0 2 1 2 3 0 1 1]\n"
          ]
        }
      ]
    },
    {
      "cell_type": "code",
      "source": [
        "# Explanation of the code and the output explain by the this image which is present in the below"
      ],
      "metadata": {
        "id": "j8cvQCOKzGhI"
      },
      "execution_count": null,
      "outputs": []
    },
    {
      "cell_type": "markdown",
      "source": [
        "![Screenshot 2025-02-11 122604.png](data:image/png;base64,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)"
      ],
      "metadata": {
        "id": "qz6g6FLoyu3T"
      }
    },
    {
      "cell_type": "code",
      "source": [],
      "metadata": {
        "id": "DHja_-n0yt6c"
      },
      "execution_count": null,
      "outputs": []
    },
    {
      "cell_type": "markdown",
      "source": [
        "**Combining not join a one and a two-dimensional NumPy Array**"
      ],
      "metadata": {
        "id": "fBFUQV4L0H6_"
      }
    },
    {
      "cell_type": "markdown",
      "source": [
        "**Combine and join are two thing**"
      ],
      "metadata": {
        "id": "Afp4lfiv2bRy"
      }
    },
    {
      "cell_type": "markdown",
      "source": [
        "**COMBINE**"
      ],
      "metadata": {
        "id": "iGFjFcp72cuc"
      }
    },
    {
      "cell_type": "code",
      "source": [
        "# Combining\n",
        "\n",
        "import numpy as np\n",
        "\n",
        "num_1 = np.arange(5)\n",
        "print(\" One dimensional array:\",num_1)\n",
        "\n",
        "num_2 = np.arange(10).reshape(2,5)\n",
        "print(\"One dimensional array\",num_2)\n",
        "\n",
        "for a,b in np.nditer([num_1,num_2]):\n",
        "        print(\"%d:%d\" % (a,b),)"
      ],
      "metadata": {
        "colab": {
          "base_uri": "https://localhost:8080/"
        },
        "id": "1J0Xxmsk0I4n",
        "outputId": "ae4ccc35-8d9b-4485-aed8-9c87e1428be5"
      },
      "execution_count": 31,
      "outputs": [
        {
          "output_type": "stream",
          "name": "stdout",
          "text": [
            " One dimensional array: [0 1 2 3 4]\n",
            "One dimensional array [[0 1 2 3 4]\n",
            " [5 6 7 8 9]]\n",
            "0:0\n",
            "1:1\n",
            "2:2\n",
            "3:3\n",
            "4:4\n",
            "0:5\n",
            "1:6\n",
            "2:7\n",
            "3:8\n",
            "4:9\n"
          ]
        }
      ]
    },
    {
      "cell_type": "code",
      "source": [],
      "metadata": {
        "id": "VoHLu6su2CDo"
      },
      "execution_count": null,
      "outputs": []
    },
    {
      "cell_type": "markdown",
      "source": [
        "**JOIN**"
      ],
      "metadata": {
        "id": "NcL7MQF_2hmP"
      }
    },
    {
      "cell_type": "code",
      "source": [
        "# VSTACK"
      ],
      "metadata": {
        "id": "drsonq6r3cXO"
      },
      "execution_count": 39,
      "outputs": []
    },
    {
      "cell_type": "code",
      "source": [
        "print(\"First array\",num_1)\n",
        "\n",
        "print(\"Second array\",num_2)\n",
        "\n",
        "cum = np.vstack([num_1,num_2])\n",
        "print(\"The combined result\",cum)"
      ],
      "metadata": {
        "colab": {
          "base_uri": "https://localhost:8080/"
        },
        "id": "mCAHeYAC2ire",
        "outputId": "3642c7be-4c32-44ac-8a74-05d43b16d423"
      },
      "execution_count": 37,
      "outputs": [
        {
          "output_type": "stream",
          "name": "stdout",
          "text": [
            "First array [0 1 2 3 4]\n",
            "Second array [[0 1 2 3 4]\n",
            " [5 6 7 8 9]]\n",
            "The combined result [[0 1 2 3 4]\n",
            " [0 1 2 3 4]\n",
            " [5 6 7 8 9]]\n"
          ]
        }
      ]
    },
    {
      "cell_type": "code",
      "source": [
        "# HSTACK"
      ],
      "metadata": {
        "id": "LyGfwQZL2wqR"
      },
      "execution_count": 38,
      "outputs": []
    },
    {
      "cell_type": "code",
      "source": [
        "print(\"First array\",num_1)\n",
        "\n",
        "print(\"Second array\",num_2)\n",
        "\n",
        "cum = np.hstack([num_1,num_2])\n",
        "print(\"The combined result\",cum)"
      ],
      "metadata": {
        "id": "R1dpNboA3UXJ"
      },
      "execution_count": null,
      "outputs": []
    },
    {
      "cell_type": "code",
      "source": [
        "# CONCATENATE\n",
        "# but all the input array must be of same size"
      ],
      "metadata": {
        "id": "cuClqcp23oY7"
      },
      "execution_count": 40,
      "outputs": []
    },
    {
      "cell_type": "code",
      "source": [
        "num_1d = np.array([[1,2,3,4],\n",
        "                   [5,6,7,8],\n",
        "                   [7,8,9,10]])\n",
        "print(\"First array\",num_1d)\n",
        "\n",
        "num_2d = np.array([[3,4,2,1],\n",
        "                   [6,5,4,3],\n",
        "                   [9,1,10,3]])\n",
        "print(\"Second array\",num_2d)\n",
        "\n",
        "cum = np.concatenate([num_1d,num_2d],axis = 0)\n",
        "print(\"The combined result\",cum)"
      ],
      "metadata": {
        "colab": {
          "base_uri": "https://localhost:8080/"
        },
        "id": "LqilZEuX3qpi",
        "outputId": "e18220e4-84e6-4279-c433-9f981d565b6d"
      },
      "execution_count": 42,
      "outputs": [
        {
          "output_type": "stream",
          "name": "stdout",
          "text": [
            "First array [[ 1  2  3  4]\n",
            " [ 5  6  7  8]\n",
            " [ 7  8  9 10]]\n",
            "Second array [[ 3  4  2  1]\n",
            " [ 6  5  4  3]\n",
            " [ 9  1 10  3]]\n",
            "The combined result [[ 1  2  3  4]\n",
            " [ 5  6  7  8]\n",
            " [ 7  8  9 10]\n",
            " [ 3  4  2  1]\n",
            " [ 6  5  4  3]\n",
            " [ 9  1 10  3]]\n"
          ]
        }
      ]
    },
    {
      "cell_type": "code",
      "source": [],
      "metadata": {
        "id": "Uy9okqAB30nL"
      },
      "execution_count": null,
      "outputs": []
    }
  ]
}